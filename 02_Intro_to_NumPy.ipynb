{
 "cells": [
  {
   "cell_type": "markdown",
   "metadata": {},
   "source": [
    "# Welcome to the tutorial on NumPy\n",
    "\n",
    "---\n",
    "\n",
    "### In this document, we'll talk about the following:\n",
    "- NumPy"
   ]
  },
  {
   "cell_type": "markdown",
   "metadata": {},
   "source": [
    "## NumPy\n",
    "---\n",
    "\n",
    "[NumPy](https://numpy.org/) is an open source project used to enable numerical computing with Python. It provides support for large, multi-dimensional arrays and matrices, along with a large collection of high-level mathematical functions to operate on these arrays.  \n",
    "We generally import NumPy with the following line:"
   ]
  },
  {
   "cell_type": "code",
   "execution_count": 1,
   "metadata": {},
   "outputs": [],
   "source": [
    "import numpy as np"
   ]
  },
  {
   "cell_type": "markdown",
   "metadata": {},
   "source": [
    "### Some frequently used functions are:"
   ]
  },
  {
   "cell_type": "markdown",
   "metadata": {},
   "source": [
    "#### `np.array(array,[dtype=None, order='K', ndmin=0])`\n",
    "We use this function to create a numpy array.\n",
    "##### Parameters\n",
    "**array**: Python array which should be made into numpy array  \n",
    "**dtype(Optional)**: Data type of the elements in the array  \n",
    "**order(Optional)**: *{'K',‘C’, ‘F’}* Specify the memory layout of the array Row major `C` or Column major `F`.    Use `K` to keep the order same as the source array.\n",
    "**ndmin(Optional)**: Specifies the minimum number of dimensions that the resulting array should have   \n",
    "##### Returns\n",
    "Returns the numpy array"
   ]
  },
  {
   "cell_type": "code",
   "execution_count": 2,
   "metadata": {},
   "outputs": [
    {
     "data": {
      "text/plain": [
       "array([1, 2, 3])"
      ]
     },
     "execution_count": 2,
     "metadata": {},
     "output_type": "execute_result"
    }
   ],
   "source": [
    "np.array([1,2,3])"
   ]
  },
  {
   "cell_type": "markdown",
   "metadata": {},
   "source": [
    "#### Every numpy array has the following properties:\n",
    "\n",
    "| Propery Name                  | Example               |\n",
    "| :---------------------------- | :-------------------- |\n",
    "| Dimensions                    | `array_name.ndim`     |\n",
    "| Shape                         | `array_name.shape`    |\n",
    "| Number of elements            | `array_name.size`     |\n",
    "| Data type                     | `array_name.dtype`    |\n",
    "| Size of each element in bytes | `array_name.itemsize` |"
   ]
  },
  {
   "cell_type": "markdown",
   "metadata": {},
   "source": [
    "Let's see some examples"
   ]
  },
  {
   "cell_type": "code",
   "execution_count": 3,
   "metadata": {},
   "outputs": [
    {
     "name": "stdout",
     "output_type": "stream",
     "text": [
      "(3,)\n",
      "1\n"
     ]
    }
   ],
   "source": [
    "a = np.array([1,2,3])\n",
    "print(a.shape)\n",
    "print(a.ndim)"
   ]
  },
  {
   "cell_type": "markdown",
   "metadata": {},
   "source": [
    "#### `np.zeros(shape, [dtype=None, order='C'])`\n",
    "We use this function to create a numpy array filled with zeros\n",
    "##### Parameters\n",
    "**shape**: Shape of the array  \n",
    "**dtype(Optional)**: Data type of the array  \n",
    "**order(Optional)**: *{'K',‘C’, ‘F’}* Specify the memory layout of the array Row major `C` or Column major `F`.  \n",
    "##### Returns\n",
    "Returns a array filled with **zeros** of the given shape and type"
   ]
  },
  {
   "cell_type": "code",
   "execution_count": 4,
   "metadata": {},
   "outputs": [
    {
     "data": {
      "text/plain": [
       "array([[0, 0],\n",
       "       [0, 0],\n",
       "       [0, 0]], dtype=int32)"
      ]
     },
     "execution_count": 4,
     "metadata": {},
     "output_type": "execute_result"
    }
   ],
   "source": [
    "np.zeros((3,2), dtype=np.int32)"
   ]
  },
  {
   "cell_type": "markdown",
   "metadata": {},
   "source": [
    "#### `np.ones(shape, [dtype=None, order='C'])`\n",
    "We use this function to create a numpy array filled with ones\n",
    "##### Parameters\n",
    "**shape**: Shape of the array  \n",
    "**dtype(Optional)**: Data type of the array   \n",
    "**order(Optional)**: *{'K',‘C’, ‘F’}* Specify the memory layout of the array Row major `C` or Column major `F`.  \n",
    "##### Returns\n",
    "Returns a array filled with **ones** of the given shape and type"
   ]
  },
  {
   "cell_type": "code",
   "execution_count": 5,
   "metadata": {},
   "outputs": [
    {
     "data": {
      "text/plain": [
       "array([[1., 1., 1., 1., 1.]])"
      ]
     },
     "execution_count": 5,
     "metadata": {},
     "output_type": "execute_result"
    }
   ],
   "source": [
    "np.ones((1,5))"
   ]
  },
  {
   "cell_type": "markdown",
   "metadata": {},
   "source": [
    "#### `np.empty(shape, [dtype])`\n",
    "##### Parameters\n",
    "**shape**: Shape of the array  \n",
    "**dtype(Optional)**: Data type of the array  \n",
    "**order(Optional)**: *{'K',‘C’, ‘F’}* Specify the memory layout of the array Row major `C` or Column major `F`.  \n",
    "##### Returns\n",
    "Return a new array of given shape and type, without initializing entries."
   ]
  },
  {
   "cell_type": "code",
   "execution_count": 6,
   "metadata": {},
   "outputs": [
    {
     "data": {
      "text/plain": [
       "array([[4.6879644e-310, 0.0000000e+000, 0.0000000e+000],\n",
       "       [0.0000000e+000, 0.0000000e+000, 0.0000000e+000]])"
      ]
     },
     "execution_count": 6,
     "metadata": {},
     "output_type": "execute_result"
    }
   ],
   "source": [
    "np.empty((2,3))"
   ]
  },
  {
   "cell_type": "markdown",
   "metadata": {},
   "source": [
    "**Note: The values shown above are junk values**"
   ]
  },
  {
   "cell_type": "markdown",
   "metadata": {},
   "source": [
    "#### `numpy.arange(([start, ]stop, [step, dtype=None])`\n",
    "This function gives us an 1D array with evenly spaced values within a given interval. \n",
    "##### Parameters\n",
    "**stop**: Stop of interval   \n",
    "**start(Optional)**: Start of interval   \n",
    "**step(Optional)**: Spacing between values  \n",
    "**dtype(Optional)**: Data type of the array  \n",
    "##### Returns\n",
    "Array of evenly spaced values"
   ]
  },
  {
   "cell_type": "code",
   "execution_count": 7,
   "metadata": {},
   "outputs": [
    {
     "data": {
      "text/plain": [
       "array([10, 12, 14, 16, 18])"
      ]
     },
     "execution_count": 7,
     "metadata": {},
     "output_type": "execute_result"
    }
   ],
   "source": [
    "np.arange(10, 20, 2)"
   ]
  },
  {
   "cell_type": "markdown",
   "metadata": {},
   "source": [
    "### Operations on Numpy arrays"
   ]
  },
  {
   "cell_type": "markdown",
   "metadata": {},
   "source": [
    "Most operation which are possible on normal Python variables are also available on numpy array."
   ]
  },
  {
   "cell_type": "code",
   "execution_count": 8,
   "metadata": {},
   "outputs": [],
   "source": [
    "a = np.array([1,2,3])\n",
    "b = np.array([4,5,6])"
   ]
  },
  {
   "cell_type": "code",
   "execution_count": 9,
   "metadata": {},
   "outputs": [
    {
     "name": "stdout",
     "output_type": "stream",
     "text": [
      "[5 7 9]\n",
      "[-3 -3 -3]\n",
      "[ 4 10 18]\n",
      "[0.25 0.4  0.5 ]\n"
     ]
    }
   ],
   "source": [
    "print(a+b)\n",
    "print(a-b)\n",
    "print(a*b)\n",
    "print(a/b)"
   ]
  },
  {
   "cell_type": "markdown",
   "metadata": {},
   "source": [
    "**Note: The operations performed here (especially multiplication) are performed element wise**  \n",
    "#### There are also some additional operations which are exclusive to matrices which are simple to implement via the Numpy package"
   ]
  },
  {
   "cell_type": "markdown",
   "metadata": {},
   "source": [
    "#### `np.resize(old_array, new_shape)`\n",
    "We use this function to resize an existing numpy array\n",
    "##### Parameters\n",
    "**old_array**: Original array to be reshaped  \n",
    "**new_shape**: int or tuple of int of the new shape\n",
    "##### Returns\n",
    "The new array is formed from the data in the old array.\n",
    "*Data is repeated if necessary to fill out the required number of elements*"
   ]
  },
  {
   "cell_type": "code",
   "execution_count": 10,
   "metadata": {},
   "outputs": [
    {
     "name": "stdout",
     "output_type": "stream",
     "text": [
      "a : \n",
      " [11 12 13 14 15 16 17 18 19 20]\n",
      "a's shape =  (10,)\n",
      "New a : \n",
      " [[11 12 13 14 15]\n",
      " [16 17 18 19 20]]\n",
      "New a's shape =  (2, 5)\n"
     ]
    }
   ],
   "source": [
    "a = np.arange(11, 21)\n",
    "print(\"a : \\n\",a)\n",
    "print(\"a's shape = \",a.shape)\n",
    "a = np.resize(a, (2,5))\n",
    "print(\"New a : \\n\",a)\n",
    "print(\"New a's shape = \",a.shape)"
   ]
  },
  {
   "cell_type": "markdown",
   "metadata": {},
   "source": [
    "#### Array slicing\n",
    "Slicing means extracting elements from one given index to another given index\n",
    "Some key points to remember when slicing are:\n",
    "- Slicing is done by passing indexing like this: `[start:end]`\n",
    "- We can also define the step, like this: `[start:end:step]`\n",
    "- If we don't pass start its considered 0\n",
    "- If we don't pass end its considered length of array in that dimension\n",
    "- If we don't pass step its considered 1\n",
    "\n",
    "Let's look at some examples"
   ]
  },
  {
   "cell_type": "code",
   "execution_count": 11,
   "metadata": {},
   "outputs": [
    {
     "name": "stdout",
     "output_type": "stream",
     "text": [
      "a      = \t [11 12 13 14 15 16 17 18 19 20]\n",
      "a[2:5] = \t [13 14 15]\n",
      "a[:5]  = \t [11 12 13 14 15]\n",
      "a[7:]  = \t [18 19 20]\n",
      "a[::3] = \t [11 14 17 20]\n"
     ]
    }
   ],
   "source": [
    "a = np.arange(11, 21)\n",
    "print(\"a      = \\t\",a)\n",
    "print(\"a[2:5] = \\t\",a[2:5])\n",
    "print(\"a[:5]  = \\t\",a[:5])\n",
    "print(\"a[7:]  = \\t\",a[7:])\n",
    "print(\"a[::3] = \\t\",a[::3])"
   ]
  },
  {
   "cell_type": "markdown",
   "metadata": {},
   "source": [
    "#### `np.dot(a, b)`\n",
    "##### Parameters\n",
    "**a**: First array argument  \n",
    "**b**: Second array argument  \n",
    "##### Returns\n",
    "Returns the following:\n",
    "- If both a and b are 1-D arrays, it is inner product of vectors\n",
    "- If both a and b are 2-D arrays, it is matrix multiplication(cross product)\n",
    "- If either a or b is 0-D (scalar), it is equivalent to multiply and using numpy.multiply(a, b)"
   ]
  },
  {
   "cell_type": "code",
   "execution_count": 12,
   "metadata": {},
   "outputs": [
    {
     "name": "stdout",
     "output_type": "stream",
     "text": [
      "a = \n",
      " [1 2 3]\n",
      "b = \n",
      " [[1 2 3]\n",
      " [4 5 6]\n",
      " [7 8 9]]\n",
      "np.dot(a,b) = \n",
      " [30 36 42]\n"
     ]
    }
   ],
   "source": [
    "a = np.array([1,2,3])\n",
    "b = np.array([[1,2,3],[4,5,6],[7,8,9]])\n",
    "print(\"a = \\n\",a)\n",
    "print(\"b = \\n\",b)\n",
    "print(\"np.dot(a,b) = \\n\",np.dot(a,b))"
   ]
  },
  {
   "cell_type": "markdown",
   "metadata": {},
   "source": [
    "## Putting it all together"
   ]
  },
  {
   "cell_type": "markdown",
   "metadata": {},
   "source": [
    "Let's make a program which uses some of the functions mentioned above. We will be making program which takes pictures from the webcam.\n",
    "\n",
    "**NOTE:** Though you may not be using NumPy functions directly, OpenCV uses them for a lot of process.\n",
    "\n",
    "**Please run this locally on your system and not on the Jupyter Notebook(NB).**"
   ]
  },
  {
   "cell_type": "markdown",
   "metadata": {},
   "source": [
    "```py\n",
    "import numpy as np\n",
    "import cv2\n",
    "\n",
    "cap = cv2.VideoCapture(0)\n",
    "\n",
    "while(True):\n",
    "    # Capture frame-by-frame\n",
    "    ret, frame = cap.read()\n",
    "\n",
    "    # Convert Color to Grayscale fram\n",
    "    gray = cv2.cvtColor(frame, cv2.COLOR_BGR2GRAY)\n",
    "\n",
    "    # Display the resulting frame\n",
    "    cv2.imshow('frame',gray)\n",
    "    if cv2.waitKey(1) & 0xFF == ord('q'):\n",
    "        break\n",
    "\n",
    "# When everything done, release the capture\n",
    "cap.release()\n",
    "cv2.destroyAllWindows()\n",
    "```"
   ]
  }
 ],
 "metadata": {
  "kernelspec": {
   "display_name": "NB_9999",
   "language": "python",
   "name": "nb_9999"
  },
  "language_info": {
   "codemirror_mode": {
    "name": "ipython",
    "version": 3
   },
   "file_extension": ".py",
   "mimetype": "text/x-python",
   "name": "python",
   "nbconvert_exporter": "python",
   "pygments_lexer": "ipython3",
   "version": "3.8.5"
  }
 },
 "nbformat": 4,
 "nbformat_minor": 4
}
