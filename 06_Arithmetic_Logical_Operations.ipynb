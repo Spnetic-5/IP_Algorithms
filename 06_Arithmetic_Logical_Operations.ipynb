{
 "cells": [
  {
   "cell_type": "markdown",
   "metadata": {},
   "source": [
    "# Welcome to the tutorial on Arithmetic and Logical Operations\n",
    "\n",
    "---\n",
    "\n",
    "### In this document, we'll talk about the following:\n",
    "- Arithmetic operations in Image Processing\n",
    "- Logical operations in Image Processing"
   ]
  },
  {
   "cell_type": "markdown",
   "metadata": {},
   "source": [
    "## Arithmetic operations\n",
    "Image arithmetic applies one of the standard arithmetic operations on two or more images.   \n",
    "The operators are applied in a pixel-by-pixel way, i.e. the value of a pixel in the output image depends only on the values of the corresponding pixels in the input images. Hence, the **images must be of the same size**.  \n",
    "\n",
    "Let's import the necessary packages and import an image in **RGB**."
   ]
  },
  {
   "cell_type": "code",
   "execution_count": 1,
   "metadata": {},
   "outputs": [],
   "source": [
    "import cv2\n",
    "import numpy as np\n",
    "from matplotlib import pyplot as plt"
   ]
  },
  {
   "cell_type": "markdown",
   "metadata": {},
   "source": [
    "We'll create a helper function which will help us view the input and output images together."
   ]
  },
  {
   "cell_type": "code",
   "execution_count": 2,
   "metadata": {},
   "outputs": [],
   "source": [
    "def plotter(img1, img2, final_img):\n",
    "    fig=plt.figure(figsize=(10,4))\n",
    "    rows = 1\n",
    "    columns = 3\n",
    "\n",
    "    fig.add_subplot(rows, columns, 1)\n",
    "    plt.imshow(img1); plt.axis('off'); plt.title(\"Image 1\")\n",
    "\n",
    "    fig.add_subplot(rows, columns, 2)\n",
    "    plt.imshow(img2); plt.axis('off'); plt.title(\"Image 2\")\n",
    "    \n",
    "    fig.add_subplot(rows, columns, 3)\n",
    "    plt.imshow(final_img); plt.axis('off'); plt.title(\"After Operation\")"
   ]
  },
  {
   "cell_type": "markdown",
   "metadata": {},
   "source": [
    "We'll understand the various operations by combining various solid colors."
   ]
  },
  {
   "cell_type": "code",
   "execution_count": 3,
   "metadata": {},
   "outputs": [],
   "source": [
    "black_100 = np.zeros((300, 100, 3), np.uint8)\n",
    "\n",
    "white_100 = np.zeros((300, 100, 3), np.uint8)\n",
    "white_100[:] = (255, 255, 255)\n",
    "\n",
    "red_200 = np.zeros((300, 200, 3), np.uint8)\n",
    "red_200[:] = (255, 0, 0)\n",
    "\n",
    "blue_200 = np.zeros((300, 200, 3), np.uint8)\n",
    "blue_200[:] = (0, 0, 255)"
   ]
  },
  {
   "cell_type": "markdown",
   "metadata": {},
   "source": [
    "#### `np.hstack(arrays) `\n",
    "Horizontally stacks the given arrays\n",
    "##### Parameters\n",
    "**arrays**: sequence of numpy arrays\n",
    "##### Returns\n",
    "Returns horizontally stacked input array"
   ]
  },
  {
   "cell_type": "code",
   "execution_count": 4,
   "metadata": {},
   "outputs": [],
   "source": [
    "img1 = np.hstack([red_200, black_100])\n",
    "img2 = np.hstack([black_100, blue_200])"
   ]
  },
  {
   "cell_type": "markdown",
   "metadata": {},
   "source": [
    "#### `cv2.add(src1, src2 ) `\n",
    "##### Parameters\n",
    "**src1**: First Image  \n",
    "**src2**: Second Image  \n",
    "##### Returns\n",
    "Returns the addition of the two images"
   ]
  },
  {
   "cell_type": "code",
   "execution_count": 5,
   "metadata": {
    "scrolled": false
   },
   "outputs": [
    {
     "data": {
      "image/png": "[encoded data removed]",
      "text/plain": [
       "<Figure size 720x288 with 3 Axes>"
      ]
     },
     "metadata": {
      "needs_background": "light"
     },
     "output_type": "display_data"
    }
   ],
   "source": [
    "img3 = cv2.add(img1, img2)\n",
    "plotter(img1, img2, img3)"
   ]
  },
  {
   "cell_type": "markdown",
   "metadata": {},
   "source": [
    "Often in reality we don't want to just add the images, we also want to control how much of each image is added. For this we have a sepearate function."
   ]
  },
  {
   "cell_type": "markdown",
   "metadata": {},
   "source": [
    "#### `cv2.addWeighted(src1, alpha, src2, beta, gamma ) `\n",
    "##### Parameters\n",
    "**src1**: First Image  \n",
    "**alpha**: weight of the First image\n",
    "**src2**: Second Image  \n",
    "**beta**: weight of the Second image   \n",
    "**gamma**: scalar added to each sum  \n",
    "##### Returns\n",
    "Returns the weighted addition of the two images as per the following formula:  \n",
    "<center>\n",
    "    src1*alpha + src2*beta + gamma\n",
    "</center>"
   ]
  },
  {
   "cell_type": "code",
   "execution_count": 6,
   "metadata": {},
   "outputs": [
    {
     "data": {
      "image/png": "[encoded data removed]",
      "text/plain": [
       "<Figure size 720x288 with 3 Axes>"
      ]
     },
     "metadata": {
      "needs_background": "light"
     },
     "output_type": "display_data"
    }
   ],
   "source": [
    "alpha = 0.7\n",
    "beta = 0.9\n",
    "gamma = 0\n",
    "\n",
    "img3 = cv2.addWeighted(img1, alpha, img2, beta, gamma)\n",
    "plotter(img1, img2, img3)"
   ]
  },
  {
   "cell_type": "markdown",
   "metadata": {},
   "source": [
    "Some other Arithmetic operations possible are:\n",
    "- Subtraction\n",
    "- Multiplication\n",
    "- Division\n",
    "- Log\n",
    "- Exponentional, etc\n",
    "\n",
    "| Operation      | Function used                     |                          Image 1                          |                          Image 2                          |                           Final                           |\n",
    "| :------------- | :-------------------------------- | :-------------------------------------------------------: | :-------------------------------------------------------: | :-------------------------------------------------------: |\n",
    "| Subtraction    | `cv2.subtract(src1, src2)`          | <img src=\"./Assets/op_subtract1.png\" style=\"width: 60%;\"> | <img src=\"./Assets/op_subtract2.png\" style=\"width: 60%;\"> | <img src=\"./Assets/op_subtract3.png\" style=\"width: 60%;\"> |\n",
    "| Multiplication | `cv2.multiply(src1, src2 [,scale])` | <img src=\"./Assets/op_multiply1.png\" style=\"width: 60%;\"> | <img src=\"./Assets/op_multiply2.png\" style=\"width: 60%;\"> | <img src=\"./Assets/op_multiply3.png\" style=\"width: 60%;\"> |\n",
    "| Division         | `cv2.divide(src1, src2 [,scale])`   |  <img src=\"./Assets/op_divide1.png\" style=\"width: 60%;\">  |  <img src=\"./Assets/op_divide2.png\" style=\"width: 60%;\">  |  <img src=\"./Assets/op_divide3.png\" style=\"width: 60%;\">  |"
   ]
  },
  {
   "cell_type": "markdown",
   "metadata": {},
   "source": [
    "## Logical operations\n",
    "Logical operators are often used to combine two (mostly binary) images. \n",
    "The logical operations possible are:   \n",
    "- AND\n",
    "- OR\n",
    "- NOT\n",
    "- XOR"
   ]
  },
  {
   "cell_type": "markdown",
   "metadata": {},
   "source": [
    "| Operation | Function used               |                       Image 1                        |                       Image 2                        |                        Final                         |\n",
    "| :-------- | :-------------------------- | :--------------------------------------------------: | :--------------------------------------------------: | :--------------------------------------------------: |\n",
    "| AND       | cv2.bitwise_and(src1, src2) | <img src=\"./Assets/op_and1.png\" style=\"width: 60%;\"> | <img src=\"./Assets/op_and2.png\" style=\"width: 60%;\"> | <img src=\"./Assets/op_and3.png\" style=\"width: 60%;\"> |\n",
    "| OR        | cv2.bitwise_or(src1, src2)  | <img src=\"./Assets/op_and1.png\" style=\"width: 60%;\"> | <img src=\"./Assets/op_and2.png\" style=\"width: 60%;\"> | <img src=\"./Assets/op_or3.png\" style=\"width: 60%;\">  |\n",
    "| NOT       | cv2.bitwise_not(src)        | <img src=\"./Assets/op_and1.png\" style=\"width: 60%;\"> |                          -                           | <img src=\"./Assets/op_not3.png\" style=\"width: 60%;\"> |"
   ]
  }
 ],
 "metadata": {
  "kernelspec": {
   "display_name": "NB_9999",
   "language": "python",
   "name": "nb_9999"
  },
  "language_info": {
   "codemirror_mode": {
    "name": "ipython",
    "version": 3
   },
   "file_extension": ".py",
   "mimetype": "text/x-python",
   "name": "python",
   "nbconvert_exporter": "python",
   "pygments_lexer": "ipython3",
   "version": "3.8.5"
  }
 },
 "nbformat": 4,
 "nbformat_minor": 4
}
